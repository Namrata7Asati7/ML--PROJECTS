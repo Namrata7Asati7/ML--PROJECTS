{
 "cells": [
  {
   "cell_type": "code",
   "execution_count": 73,
   "metadata": {},
   "outputs": [],
   "source": [
    "import pandas as pd\n",
    "from sklearn.model_selection import train_test_split\n",
    "from sklearn.linear_model import LogisticRegression\n",
    "from sklearn.metrics import accuracy_score\n",
    "from sklearn.feature_extraction.text import TfidfVectorizer"
   ]
  },
  {
   "cell_type": "code",
   "execution_count": 74,
   "metadata": {},
   "outputs": [],
   "source": [
    "data = pd.read_csv('EASSY_data.csv')"
   ]
  },
  {
   "cell_type": "code",
   "execution_count": 75,
   "metadata": {},
   "outputs": [
    {
     "data": {
      "text/html": [
       "<div>\n",
       "<style scoped>\n",
       "    .dataframe tbody tr th:only-of-type {\n",
       "        vertical-align: middle;\n",
       "    }\n",
       "\n",
       "    .dataframe tbody tr th {\n",
       "        vertical-align: top;\n",
       "    }\n",
       "\n",
       "    .dataframe thead th {\n",
       "        text-align: right;\n",
       "    }\n",
       "</style>\n",
       "<table border=\"1\" class=\"dataframe\">\n",
       "  <thead>\n",
       "    <tr style=\"text-align: right;\">\n",
       "      <th></th>\n",
       "      <th>Task_Type</th>\n",
       "      <th>Question</th>\n",
       "      <th>Essay</th>\n",
       "      <th>Examiner_Commen</th>\n",
       "      <th>Task_Response</th>\n",
       "      <th>Coherence_Cohesion</th>\n",
       "      <th>Lexical_Resource</th>\n",
       "      <th>Range_Accuracy</th>\n",
       "      <th>Overall</th>\n",
       "    </tr>\n",
       "  </thead>\n",
       "  <tbody>\n",
       "    <tr>\n",
       "      <th>0</th>\n",
       "      <td>1</td>\n",
       "      <td>The bar chart below describes some changes abo...</td>\n",
       "      <td>Between 1995 and 2010, a study was conducted r...</td>\n",
       "      <td>NaN</td>\n",
       "      <td>NaN</td>\n",
       "      <td>NaN</td>\n",
       "      <td>NaN</td>\n",
       "      <td>NaN</td>\n",
       "      <td>5.5</td>\n",
       "    </tr>\n",
       "    <tr>\n",
       "      <th>1</th>\n",
       "      <td>2</td>\n",
       "      <td>Rich countries often give money to poorer coun...</td>\n",
       "      <td>Poverty represents a worldwide crisis. It is t...</td>\n",
       "      <td>NaN</td>\n",
       "      <td>NaN</td>\n",
       "      <td>NaN</td>\n",
       "      <td>NaN</td>\n",
       "      <td>NaN</td>\n",
       "      <td>6.5</td>\n",
       "    </tr>\n",
       "    <tr>\n",
       "      <th>2</th>\n",
       "      <td>1</td>\n",
       "      <td>The bar chart below describes some changes abo...</td>\n",
       "      <td>The left chart shows the population change hap...</td>\n",
       "      <td>NaN</td>\n",
       "      <td>NaN</td>\n",
       "      <td>NaN</td>\n",
       "      <td>NaN</td>\n",
       "      <td>NaN</td>\n",
       "      <td>5.0</td>\n",
       "    </tr>\n",
       "    <tr>\n",
       "      <th>3</th>\n",
       "      <td>2</td>\n",
       "      <td>Rich countries often give money to poorer coun...</td>\n",
       "      <td>Human beings are facing many challenges nowada...</td>\n",
       "      <td>NaN</td>\n",
       "      <td>NaN</td>\n",
       "      <td>NaN</td>\n",
       "      <td>NaN</td>\n",
       "      <td>NaN</td>\n",
       "      <td>5.5</td>\n",
       "    </tr>\n",
       "    <tr>\n",
       "      <th>4</th>\n",
       "      <td>1</td>\n",
       "      <td>The graph below shows the number of overseas v...</td>\n",
       "      <td>Information about the thousands of visits from...</td>\n",
       "      <td>NaN</td>\n",
       "      <td>NaN</td>\n",
       "      <td>NaN</td>\n",
       "      <td>NaN</td>\n",
       "      <td>NaN</td>\n",
       "      <td>7.0</td>\n",
       "    </tr>\n",
       "  </tbody>\n",
       "</table>\n",
       "</div>"
      ],
      "text/plain": [
       "   Task_Type                                           Question   \n",
       "0          1  The bar chart below describes some changes abo...  \\\n",
       "1          2  Rich countries often give money to poorer coun...   \n",
       "2          1  The bar chart below describes some changes abo...   \n",
       "3          2  Rich countries often give money to poorer coun...   \n",
       "4          1  The graph below shows the number of overseas v...   \n",
       "\n",
       "                                               Essay Examiner_Commen   \n",
       "0  Between 1995 and 2010, a study was conducted r...             NaN  \\\n",
       "1  Poverty represents a worldwide crisis. It is t...             NaN   \n",
       "2  The left chart shows the population change hap...             NaN   \n",
       "3  Human beings are facing many challenges nowada...             NaN   \n",
       "4  Information about the thousands of visits from...             NaN   \n",
       "\n",
       "   Task_Response  Coherence_Cohesion  Lexical_Resource  Range_Accuracy   \n",
       "0            NaN                 NaN               NaN             NaN  \\\n",
       "1            NaN                 NaN               NaN             NaN   \n",
       "2            NaN                 NaN               NaN             NaN   \n",
       "3            NaN                 NaN               NaN             NaN   \n",
       "4            NaN                 NaN               NaN             NaN   \n",
       "\n",
       "   Overall  \n",
       "0      5.5  \n",
       "1      6.5  \n",
       "2      5.0  \n",
       "3      5.5  \n",
       "4      7.0  "
      ]
     },
     "execution_count": 75,
     "metadata": {},
     "output_type": "execute_result"
    }
   ],
   "source": [
    "data.head()"
   ]
  },
  {
   "cell_type": "code",
   "execution_count": 76,
   "metadata": {},
   "outputs": [
    {
     "data": {
      "text/html": [
       "<div>\n",
       "<style scoped>\n",
       "    .dataframe tbody tr th:only-of-type {\n",
       "        vertical-align: middle;\n",
       "    }\n",
       "\n",
       "    .dataframe tbody tr th {\n",
       "        vertical-align: top;\n",
       "    }\n",
       "\n",
       "    .dataframe thead th {\n",
       "        text-align: right;\n",
       "    }\n",
       "</style>\n",
       "<table border=\"1\" class=\"dataframe\">\n",
       "  <thead>\n",
       "    <tr style=\"text-align: right;\">\n",
       "      <th></th>\n",
       "      <th>Task_Type</th>\n",
       "      <th>Question</th>\n",
       "      <th>Essay</th>\n",
       "      <th>Examiner_Commen</th>\n",
       "      <th>Task_Response</th>\n",
       "      <th>Coherence_Cohesion</th>\n",
       "      <th>Lexical_Resource</th>\n",
       "      <th>Range_Accuracy</th>\n",
       "      <th>Overall</th>\n",
       "    </tr>\n",
       "  </thead>\n",
       "  <tbody>\n",
       "    <tr>\n",
       "      <th>1430</th>\n",
       "      <td>2</td>\n",
       "      <td>Without capital punishment our lives are less ...</td>\n",
       "      <td>Serious crimes need capital punishment so that...</td>\n",
       "      <td>You should rewrite it, giving more thought to ...</td>\n",
       "      <td>NaN</td>\n",
       "      <td>NaN</td>\n",
       "      <td>NaN</td>\n",
       "      <td>NaN</td>\n",
       "      <td>5.0</td>\n",
       "    </tr>\n",
       "    <tr>\n",
       "      <th>1431</th>\n",
       "      <td>2</td>\n",
       "      <td>Some people think that they can learn better b...</td>\n",
       "      <td>It is certainly said that learning is an ongoi...</td>\n",
       "      <td>Where are the paragraphs in this essay? You mu...</td>\n",
       "      <td>NaN</td>\n",
       "      <td>NaN</td>\n",
       "      <td>NaN</td>\n",
       "      <td>NaN</td>\n",
       "      <td>5.0</td>\n",
       "    </tr>\n",
       "    <tr>\n",
       "      <th>1432</th>\n",
       "      <td>2</td>\n",
       "      <td>Nowadays people like to change their day by da...</td>\n",
       "      <td>popular hobbies rather than their individual a...</td>\n",
       "      <td>I suggest that you read several essays that ha...</td>\n",
       "      <td>NaN</td>\n",
       "      <td>NaN</td>\n",
       "      <td>NaN</td>\n",
       "      <td>NaN</td>\n",
       "      <td>5.0</td>\n",
       "    </tr>\n",
       "    <tr>\n",
       "      <th>1433</th>\n",
       "      <td>2</td>\n",
       "      <td>Universities should allocate the same amount o...</td>\n",
       "      <td>Yes, I do feel that universities should have a...</td>\n",
       "      <td>Your essay too short, the introduction is good...</td>\n",
       "      <td>NaN</td>\n",
       "      <td>NaN</td>\n",
       "      <td>NaN</td>\n",
       "      <td>NaN</td>\n",
       "      <td>5.0</td>\n",
       "    </tr>\n",
       "    <tr>\n",
       "      <th>1434</th>\n",
       "      <td>2</td>\n",
       "      <td>Modern medicine helps to live a longer life. D...</td>\n",
       "      <td>The modern medicine is very important for livi...</td>\n",
       "      <td>The structure of sentences is not very good he...</td>\n",
       "      <td>NaN</td>\n",
       "      <td>NaN</td>\n",
       "      <td>NaN</td>\n",
       "      <td>NaN</td>\n",
       "      <td>5.0</td>\n",
       "    </tr>\n",
       "  </tbody>\n",
       "</table>\n",
       "</div>"
      ],
      "text/plain": [
       "      Task_Type                                           Question   \n",
       "1430          2  Without capital punishment our lives are less ...  \\\n",
       "1431          2  Some people think that they can learn better b...   \n",
       "1432          2  Nowadays people like to change their day by da...   \n",
       "1433          2  Universities should allocate the same amount o...   \n",
       "1434          2  Modern medicine helps to live a longer life. D...   \n",
       "\n",
       "                                                  Essay   \n",
       "1430  Serious crimes need capital punishment so that...  \\\n",
       "1431  It is certainly said that learning is an ongoi...   \n",
       "1432  popular hobbies rather than their individual a...   \n",
       "1433  Yes, I do feel that universities should have a...   \n",
       "1434  The modern medicine is very important for livi...   \n",
       "\n",
       "                                        Examiner_Commen  Task_Response   \n",
       "1430  You should rewrite it, giving more thought to ...            NaN  \\\n",
       "1431  Where are the paragraphs in this essay? You mu...            NaN   \n",
       "1432  I suggest that you read several essays that ha...            NaN   \n",
       "1433  Your essay too short, the introduction is good...            NaN   \n",
       "1434  The structure of sentences is not very good he...            NaN   \n",
       "\n",
       "      Coherence_Cohesion  Lexical_Resource  Range_Accuracy  Overall  \n",
       "1430                 NaN               NaN             NaN      5.0  \n",
       "1431                 NaN               NaN             NaN      5.0  \n",
       "1432                 NaN               NaN             NaN      5.0  \n",
       "1433                 NaN               NaN             NaN      5.0  \n",
       "1434                 NaN               NaN             NaN      5.0  "
      ]
     },
     "execution_count": 76,
     "metadata": {},
     "output_type": "execute_result"
    }
   ],
   "source": [
    "data.tail()\n"
   ]
  },
  {
   "cell_type": "code",
   "execution_count": 77,
   "metadata": {},
   "outputs": [
    {
     "data": {
      "text/plain": [
       "(1435, 9)"
      ]
     },
     "execution_count": 77,
     "metadata": {},
     "output_type": "execute_result"
    }
   ],
   "source": [
    "data.shape "
   ]
  },
  {
   "cell_type": "code",
   "execution_count": 78,
   "metadata": {},
   "outputs": [
    {
     "name": "stdout",
     "output_type": "stream",
     "text": [
      "<class 'pandas.core.frame.DataFrame'>\n",
      "RangeIndex: 1435 entries, 0 to 1434\n",
      "Data columns (total 9 columns):\n",
      " #   Column              Non-Null Count  Dtype  \n",
      "---  ------              --------------  -----  \n",
      " 0   Task_Type           1435 non-null   int64  \n",
      " 1   Question            1435 non-null   object \n",
      " 2   Essay               1435 non-null   object \n",
      " 3   Examiner_Commen     62 non-null     object \n",
      " 4   Task_Response       0 non-null      float64\n",
      " 5   Coherence_Cohesion  0 non-null      float64\n",
      " 6   Lexical_Resource    0 non-null      float64\n",
      " 7   Range_Accuracy      0 non-null      float64\n",
      " 8   Overall             1435 non-null   float64\n",
      "dtypes: float64(5), int64(1), object(3)\n",
      "memory usage: 101.0+ KB\n"
     ]
    }
   ],
   "source": [
    "data.info()"
   ]
  },
  {
   "cell_type": "code",
   "execution_count": 79,
   "metadata": {},
   "outputs": [
    {
     "data": {
      "text/html": [
       "<div>\n",
       "<style scoped>\n",
       "    .dataframe tbody tr th:only-of-type {\n",
       "        vertical-align: middle;\n",
       "    }\n",
       "\n",
       "    .dataframe tbody tr th {\n",
       "        vertical-align: top;\n",
       "    }\n",
       "\n",
       "    .dataframe thead th {\n",
       "        text-align: right;\n",
       "    }\n",
       "</style>\n",
       "<table border=\"1\" class=\"dataframe\">\n",
       "  <thead>\n",
       "    <tr style=\"text-align: right;\">\n",
       "      <th></th>\n",
       "      <th>Task_Type</th>\n",
       "      <th>Task_Response</th>\n",
       "      <th>Coherence_Cohesion</th>\n",
       "      <th>Lexical_Resource</th>\n",
       "      <th>Range_Accuracy</th>\n",
       "      <th>Overall</th>\n",
       "    </tr>\n",
       "  </thead>\n",
       "  <tbody>\n",
       "    <tr>\n",
       "      <th>count</th>\n",
       "      <td>1435.000000</td>\n",
       "      <td>0.0</td>\n",
       "      <td>0.0</td>\n",
       "      <td>0.0</td>\n",
       "      <td>0.0</td>\n",
       "      <td>1435.000000</td>\n",
       "    </tr>\n",
       "    <tr>\n",
       "      <th>mean</th>\n",
       "      <td>1.552613</td>\n",
       "      <td>NaN</td>\n",
       "      <td>NaN</td>\n",
       "      <td>NaN</td>\n",
       "      <td>NaN</td>\n",
       "      <td>6.550174</td>\n",
       "    </tr>\n",
       "    <tr>\n",
       "      <th>std</th>\n",
       "      <td>0.497397</td>\n",
       "      <td>NaN</td>\n",
       "      <td>NaN</td>\n",
       "      <td>NaN</td>\n",
       "      <td>NaN</td>\n",
       "      <td>1.058237</td>\n",
       "    </tr>\n",
       "    <tr>\n",
       "      <th>min</th>\n",
       "      <td>1.000000</td>\n",
       "      <td>NaN</td>\n",
       "      <td>NaN</td>\n",
       "      <td>NaN</td>\n",
       "      <td>NaN</td>\n",
       "      <td>1.000000</td>\n",
       "    </tr>\n",
       "    <tr>\n",
       "      <th>25%</th>\n",
       "      <td>1.000000</td>\n",
       "      <td>NaN</td>\n",
       "      <td>NaN</td>\n",
       "      <td>NaN</td>\n",
       "      <td>NaN</td>\n",
       "      <td>6.000000</td>\n",
       "    </tr>\n",
       "    <tr>\n",
       "      <th>50%</th>\n",
       "      <td>2.000000</td>\n",
       "      <td>NaN</td>\n",
       "      <td>NaN</td>\n",
       "      <td>NaN</td>\n",
       "      <td>NaN</td>\n",
       "      <td>6.500000</td>\n",
       "    </tr>\n",
       "    <tr>\n",
       "      <th>75%</th>\n",
       "      <td>2.000000</td>\n",
       "      <td>NaN</td>\n",
       "      <td>NaN</td>\n",
       "      <td>NaN</td>\n",
       "      <td>NaN</td>\n",
       "      <td>7.000000</td>\n",
       "    </tr>\n",
       "    <tr>\n",
       "      <th>max</th>\n",
       "      <td>2.000000</td>\n",
       "      <td>NaN</td>\n",
       "      <td>NaN</td>\n",
       "      <td>NaN</td>\n",
       "      <td>NaN</td>\n",
       "      <td>9.000000</td>\n",
       "    </tr>\n",
       "  </tbody>\n",
       "</table>\n",
       "</div>"
      ],
      "text/plain": [
       "         Task_Type  Task_Response  Coherence_Cohesion  Lexical_Resource   \n",
       "count  1435.000000            0.0                 0.0               0.0  \\\n",
       "mean      1.552613            NaN                 NaN               NaN   \n",
       "std       0.497397            NaN                 NaN               NaN   \n",
       "min       1.000000            NaN                 NaN               NaN   \n",
       "25%       1.000000            NaN                 NaN               NaN   \n",
       "50%       2.000000            NaN                 NaN               NaN   \n",
       "75%       2.000000            NaN                 NaN               NaN   \n",
       "max       2.000000            NaN                 NaN               NaN   \n",
       "\n",
       "       Range_Accuracy      Overall  \n",
       "count             0.0  1435.000000  \n",
       "mean              NaN     6.550174  \n",
       "std               NaN     1.058237  \n",
       "min               NaN     1.000000  \n",
       "25%               NaN     6.000000  \n",
       "50%               NaN     6.500000  \n",
       "75%               NaN     7.000000  \n",
       "max               NaN     9.000000  "
      ]
     },
     "execution_count": 79,
     "metadata": {},
     "output_type": "execute_result"
    }
   ],
   "source": [
    "data.describe()"
   ]
  },
  {
   "cell_type": "code",
   "execution_count": 80,
   "metadata": {},
   "outputs": [
    {
     "data": {
      "text/plain": [
       "Task_Type                0\n",
       "Question                 0\n",
       "Essay                    0\n",
       "Examiner_Commen       1373\n",
       "Task_Response         1435\n",
       "Coherence_Cohesion    1435\n",
       "Lexical_Resource      1435\n",
       "Range_Accuracy        1435\n",
       "Overall                  0\n",
       "dtype: int64"
      ]
     },
     "execution_count": 80,
     "metadata": {},
     "output_type": "execute_result"
    }
   ],
   "source": [
    "data.isnull().sum()"
   ]
  },
  {
   "cell_type": "code",
   "execution_count": 81,
   "metadata": {},
   "outputs": [],
   "source": [
    "X = data.drop(columns = 'Overall' , axis = 1)\n",
    "Y = data['Overall']"
   ]
  },
  {
   "cell_type": "code",
   "execution_count": 82,
   "metadata": {},
   "outputs": [
    {
     "name": "stdout",
     "output_type": "stream",
     "text": [
      "      Task_Type                                           Question   \n",
      "0             1  The bar chart below describes some changes abo...  \\\n",
      "1             2  Rich countries often give money to poorer coun...   \n",
      "2             1  The bar chart below describes some changes abo...   \n",
      "3             2  Rich countries often give money to poorer coun...   \n",
      "4             1  The graph below shows the number of overseas v...   \n",
      "...         ...                                                ...   \n",
      "1430          2  Without capital punishment our lives are less ...   \n",
      "1431          2  Some people think that they can learn better b...   \n",
      "1432          2  Nowadays people like to change their day by da...   \n",
      "1433          2  Universities should allocate the same amount o...   \n",
      "1434          2  Modern medicine helps to live a longer life. D...   \n",
      "\n",
      "                                                  Essay   \n",
      "0     Between 1995 and 2010, a study was conducted r...  \\\n",
      "1     Poverty represents a worldwide crisis. It is t...   \n",
      "2     The left chart shows the population change hap...   \n",
      "3     Human beings are facing many challenges nowada...   \n",
      "4     Information about the thousands of visits from...   \n",
      "...                                                 ...   \n",
      "1430  Serious crimes need capital punishment so that...   \n",
      "1431  It is certainly said that learning is an ongoi...   \n",
      "1432  popular hobbies rather than their individual a...   \n",
      "1433  Yes, I do feel that universities should have a...   \n",
      "1434  The modern medicine is very important for livi...   \n",
      "\n",
      "                                        Examiner_Commen  Task_Response   \n",
      "0                                                   NaN            NaN  \\\n",
      "1                                                   NaN            NaN   \n",
      "2                                                   NaN            NaN   \n",
      "3                                                   NaN            NaN   \n",
      "4                                                   NaN            NaN   \n",
      "...                                                 ...            ...   \n",
      "1430  You should rewrite it, giving more thought to ...            NaN   \n",
      "1431  Where are the paragraphs in this essay? You mu...            NaN   \n",
      "1432  I suggest that you read several essays that ha...            NaN   \n",
      "1433  Your essay too short, the introduction is good...            NaN   \n",
      "1434  The structure of sentences is not very good he...            NaN   \n",
      "\n",
      "      Coherence_Cohesion  Lexical_Resource  Range_Accuracy  \n",
      "0                    NaN               NaN             NaN  \n",
      "1                    NaN               NaN             NaN  \n",
      "2                    NaN               NaN             NaN  \n",
      "3                    NaN               NaN             NaN  \n",
      "4                    NaN               NaN             NaN  \n",
      "...                  ...               ...             ...  \n",
      "1430                 NaN               NaN             NaN  \n",
      "1431                 NaN               NaN             NaN  \n",
      "1432                 NaN               NaN             NaN  \n",
      "1433                 NaN               NaN             NaN  \n",
      "1434                 NaN               NaN             NaN  \n",
      "\n",
      "[1435 rows x 8 columns]\n"
     ]
    }
   ],
   "source": [
    "print(X)"
   ]
  },
  {
   "cell_type": "code",
   "execution_count": 83,
   "metadata": {},
   "outputs": [
    {
     "data": {
      "text/html": [
       "<div>\n",
       "<style scoped>\n",
       "    .dataframe tbody tr th:only-of-type {\n",
       "        vertical-align: middle;\n",
       "    }\n",
       "\n",
       "    .dataframe tbody tr th {\n",
       "        vertical-align: top;\n",
       "    }\n",
       "\n",
       "    .dataframe thead th {\n",
       "        text-align: right;\n",
       "    }\n",
       "</style>\n",
       "<table border=\"1\" class=\"dataframe\">\n",
       "  <thead>\n",
       "    <tr style=\"text-align: right;\">\n",
       "      <th></th>\n",
       "      <th>Task_Type</th>\n",
       "      <th>Question</th>\n",
       "      <th>Essay</th>\n",
       "      <th>Examiner_Commen</th>\n",
       "      <th>Task_Response</th>\n",
       "      <th>Coherence_Cohesion</th>\n",
       "      <th>Lexical_Resource</th>\n",
       "      <th>Range_Accuracy</th>\n",
       "    </tr>\n",
       "  </thead>\n",
       "  <tbody>\n",
       "    <tr>\n",
       "      <th>0</th>\n",
       "      <td>1</td>\n",
       "      <td>The bar chart below describes some changes abo...</td>\n",
       "      <td>Between 1995 and 2010, a study was conducted r...</td>\n",
       "      <td>NaN</td>\n",
       "      <td>NaN</td>\n",
       "      <td>NaN</td>\n",
       "      <td>NaN</td>\n",
       "      <td>NaN</td>\n",
       "    </tr>\n",
       "    <tr>\n",
       "      <th>1</th>\n",
       "      <td>2</td>\n",
       "      <td>Rich countries often give money to poorer coun...</td>\n",
       "      <td>Poverty represents a worldwide crisis. It is t...</td>\n",
       "      <td>NaN</td>\n",
       "      <td>NaN</td>\n",
       "      <td>NaN</td>\n",
       "      <td>NaN</td>\n",
       "      <td>NaN</td>\n",
       "    </tr>\n",
       "    <tr>\n",
       "      <th>2</th>\n",
       "      <td>1</td>\n",
       "      <td>The bar chart below describes some changes abo...</td>\n",
       "      <td>The left chart shows the population change hap...</td>\n",
       "      <td>NaN</td>\n",
       "      <td>NaN</td>\n",
       "      <td>NaN</td>\n",
       "      <td>NaN</td>\n",
       "      <td>NaN</td>\n",
       "    </tr>\n",
       "    <tr>\n",
       "      <th>3</th>\n",
       "      <td>2</td>\n",
       "      <td>Rich countries often give money to poorer coun...</td>\n",
       "      <td>Human beings are facing many challenges nowada...</td>\n",
       "      <td>NaN</td>\n",
       "      <td>NaN</td>\n",
       "      <td>NaN</td>\n",
       "      <td>NaN</td>\n",
       "      <td>NaN</td>\n",
       "    </tr>\n",
       "    <tr>\n",
       "      <th>4</th>\n",
       "      <td>1</td>\n",
       "      <td>The graph below shows the number of overseas v...</td>\n",
       "      <td>Information about the thousands of visits from...</td>\n",
       "      <td>NaN</td>\n",
       "      <td>NaN</td>\n",
       "      <td>NaN</td>\n",
       "      <td>NaN</td>\n",
       "      <td>NaN</td>\n",
       "    </tr>\n",
       "  </tbody>\n",
       "</table>\n",
       "</div>"
      ],
      "text/plain": [
       "   Task_Type                                           Question   \n",
       "0          1  The bar chart below describes some changes abo...  \\\n",
       "1          2  Rich countries often give money to poorer coun...   \n",
       "2          1  The bar chart below describes some changes abo...   \n",
       "3          2  Rich countries often give money to poorer coun...   \n",
       "4          1  The graph below shows the number of overseas v...   \n",
       "\n",
       "                                               Essay Examiner_Commen   \n",
       "0  Between 1995 and 2010, a study was conducted r...             NaN  \\\n",
       "1  Poverty represents a worldwide crisis. It is t...             NaN   \n",
       "2  The left chart shows the population change hap...             NaN   \n",
       "3  Human beings are facing many challenges nowada...             NaN   \n",
       "4  Information about the thousands of visits from...             NaN   \n",
       "\n",
       "   Task_Response  Coherence_Cohesion  Lexical_Resource  Range_Accuracy  \n",
       "0            NaN                 NaN               NaN             NaN  \n",
       "1            NaN                 NaN               NaN             NaN  \n",
       "2            NaN                 NaN               NaN             NaN  \n",
       "3            NaN                 NaN               NaN             NaN  \n",
       "4            NaN                 NaN               NaN             NaN  "
      ]
     },
     "execution_count": 83,
     "metadata": {},
     "output_type": "execute_result"
    }
   ],
   "source": [
    "X.head()"
   ]
  },
  {
   "cell_type": "code",
   "execution_count": 84,
   "metadata": {},
   "outputs": [],
   "source": [
    "# X = news_dataset.drop(columns = 'label' , axis = 1\n",
    "X = data['Essay'].values\n",
    "Y = data['Overall'].values"
   ]
  },
  {
   "cell_type": "code",
   "execution_count": 85,
   "metadata": {},
   "outputs": [
    {
     "name": "stdout",
     "output_type": "stream",
     "text": [
      "['Between 1995 and 2010, a study was conducted representing the percentages of people born in Australia, versus people born outside Australia, living in urban, rural, and town. First, in 1995, cities represented the major percentage of habitat by roughly 50 percent, followed by rural areas and towns came in last, among people born in Australia. On the other hand, people born outside Australia, cities showed the most percentages of 6o percent, followed by rural areas and towns. In 2010, among people born in Australia, cities had an increase more than 20 percent increase in the total representation and a major decrease in towns and rural areas. Conversely, people born outside Australia, cities had the most percentage among both studies, followed by rural areas and towns.'\n",
      " \"Poverty represents a worldwide crisis. It is the ugliest epidemic in a region, which could infect countries in the most debilitating ways. To tackle this issue, rich countries need to help those in need and give a hand when possible. I agree that there are several ways of aiding poor countries other than financial aid, like providing countries in need with engineers, workers, and soldiers who would build infrastructure. Building universities, hospitals, and roadways. By having a solid infrastructure, poor countries would be able to monetise their profits and build a stronger and more profitable economy which would help them in the long term. Once unprivilged countries find their niche, the major hurdle would be passed and would definitely pave the way for much brighter future. However, I do disagree that financial aid does not solve poverty, it does if used properly and efficiently. The most determining factor if financial aid would be the way to go, is by identifying what type of poor countries' representative are dealing with. Some countries will have a responsible leader and some will not, with that being said, implementing a strategy, to distinguish responsible leaders from others, would tailor the type of aid rich countries could use. An example, A clear report and constant observation would be applied to track the progress and how this type of aid is being monetized. In summary, types of aid varies from country to another, and tailoring the type of aid is of paramount importance to solve this problem that had huge toll on poor countries.\"\n",
      " 'The left chart shows the population change happened in Austrilia from 1995 to 2010. In 1995, half of the people born in australia are from cities, 30% from rural areas and only 20% are from towns. For the people outside of Australia, most of the people still born in cities, which is around 60%. but the number of rural areas increased to 40% with the towns born rate decreased to only 10%.\\nIn 2010, The people born in cities increased significianly in both in and outside Australia, especially in outside Australia, which reached 80%. The people bore in towns decreased simutanuously, to around 17% of the people born in Australia and 10% of outside Australia respectively. The most significiant change happened at rual areas numbers. It has shrinked to 17% of people born in Australia, and only around 5% of peopel bore outside Australia.\\nOverall, the chart shows us the trend that many people moved to Cities from rual area in the past 15 years.'\n",
      " ...\n",
      " 'popular hobbies rather than their individual activities.Hobbies and are different for everyone; this is the human nature,. The current generations are very much in the latest trend which makes them happy and also them to make more money. For example, cricket is the most famous game in , children and playing it whenever they have free time in their daily life. This makes them become a star in this game when they reach a certain age in their life. In addition, this popularity will help them to make lots of money in their life. , there are many .Those aiming to spend more time to make money rather than on their own interests. However, some of them are not about the popular hobbies and interests. For instance, drinking alcohol is one of the popular hobbies low income and .In conclusion, spending more time popular hobbies and interests really depends on their . It may to become a star in their life or time with many friends.Avoid statements such as ‘This essay will explain the reason’, your essay should present a point of view including supporting information and examples. The essay needs to be easy to follow, and in addition your English should be accurate and appropriate.'\n",
      " 'Yes, I do feel that universities should have an equal budget for their libraries as well as sport activities. It is our general belief that a good player can not be good student and hence we restrict our children’s sport activities at college level. Moreover, an academic degree has much more value than sport activities which naturally compels students to focus more on their studies than their interest in sport.Most of the universities keep sports at of their priority list, good players do not get enough facilities and to improve their skills and eventually they their interest.Universities can play substantial role in shaping this upcoming talent by providing good trainers and which is otherwise too expensive to afford. Also it will attract other students sports and inculcate importance of physical fitness in them.Universities should produce in all fields rather than only concentrating on progress of scholars. Hence, I feel that universities should allot equal amounts of money to as well as sport activities.'\n",
      " 'The modern medicine is very important for living a long life. It on new technology. . Also modern medicine is human body. . Therefore I agree that the modern medicine to live longer.First of all, the modern medicine can prevent incurable diseases. Doctors can find some diseases very early. Then doctors can give suitable medicines to patients. New modern doctors . Also intelligent people in the world live a long life modern medicine. That is very important in the human society because their creative things are coming with them and they can help others for a longer time when they are living ., old population is increasing in the country. It is country’s economy and third world countries. But old people are very important in human society because their experience definitely helps to . ‘Experience is better than qualifications’ However, old people are living a long life; it is helping others to live a long life because we can get advice from them and they are covering our culture and society.Moreover, modern medicine is being addictive for some people, so that they cannot live without medicine. They should take medicine all their lives. Also modern medicine is very expensive. Therefore most of poor countries modern medicine and it has taken a commercial shape, also it is depending on money. In the modern medicine human kindness. People who have money can take modern medicine. But indigenous medicine has well human friendly shape. It does not depend on money.To summarize; in my personal view, modern medicine is helping to live a long life . Modern technologies are being supported to find diseases very early. So doctors can take immediately. Therefore, hesitate to agree with the above mentioned statement.Your essay has several confusing sentences, where your meaning is unclear.You mix advantages and disadvantages of the modern medicine in one paragraph when you should divide them – have advantages in one paragraph and disadvantages in another.If you agree with the statement, you should have 2 paragraphs supporting your opinion and one supporting the opposite opinion, in your essay it is 2 against and 1 for.']\n"
     ]
    }
   ],
   "source": [
    "print(X)"
   ]
  },
  {
   "cell_type": "code",
   "execution_count": 86,
   "metadata": {},
   "outputs": [
    {
     "name": "stdout",
     "output_type": "stream",
     "text": [
      "[5.5 6.5 5.  ... 5.  5.  5. ]\n"
     ]
    }
   ],
   "source": [
    "print(Y)"
   ]
  },
  {
   "cell_type": "code",
   "execution_count": 87,
   "metadata": {},
   "outputs": [
    {
     "data": {
      "text/plain": [
       "(1435,)"
      ]
     },
     "execution_count": 87,
     "metadata": {},
     "output_type": "execute_result"
    }
   ],
   "source": [
    "Y.shape\n"
   ]
  },
  {
   "cell_type": "code",
   "execution_count": 88,
   "metadata": {},
   "outputs": [
    {
     "data": {
      "text/plain": [
       "(1435,)"
      ]
     },
     "execution_count": 88,
     "metadata": {},
     "output_type": "execute_result"
    }
   ],
   "source": [
    "X.shape\n"
   ]
  },
  {
   "cell_type": "code",
   "execution_count": 89,
   "metadata": {},
   "outputs": [],
   "source": [
    "vectorizer = TfidfVectorizer()\n",
    "vectorizer.fit(X)\n",
    "\n",
    "X = vectorizer.transform(X)\n"
   ]
  },
  {
   "cell_type": "code",
   "execution_count": 90,
   "metadata": {},
   "outputs": [
    {
     "name": "stdout",
     "output_type": "stream",
     "text": [
      "  (0, 13531)\t0.032826970705999256\n",
      "  (0, 13392)\t0.09391030837957651\n",
      "  (0, 13261)\t0.06765961613798235\n",
      "  (0, 12728)\t0.3303685402469938\n",
      "  (0, 12727)\t0.06802631418543073\n",
      "  (0, 12703)\t0.05549663593544935\n",
      "  (0, 12498)\t0.08916516933585933\n",
      "  (0, 12490)\t0.027204142650087765\n",
      "  (0, 12018)\t0.05158811290315811\n",
      "  (0, 12015)\t0.06302952772802277\n",
      "  (0, 11311)\t0.06471251722416767\n",
      "  (0, 10893)\t0.32506268929934823\n",
      "  (0, 10861)\t0.07088313612598471\n",
      "  (0, 10545)\t0.08471725648254591\n",
      "  (0, 10544)\t0.07759534860434047\n",
      "  (0, 10540)\t0.09890709483698448\n",
      "  (0, 9162)\t0.13063748984395138\n",
      "  (0, 9161)\t0.0971937924641711\n",
      "  (0, 9160)\t0.19595623476592705\n",
      "  (0, 9149)\t0.13172960043958554\n",
      "  (0, 8870)\t0.18601484388213785\n",
      "  (0, 8816)\t0.02429987492998023\n",
      "  (0, 8702)\t0.020061882302225865\n",
      "  (0, 8650)\t0.044956707642711036\n",
      "  (0, 8222)\t0.06249688027572908\n",
      "  :\t:\n",
      "  (1434, 3210)\t0.04137291700167663\n",
      "  (1434, 3177)\t0.05095908533763578\n",
      "  (1434, 3149)\t0.04403576098380014\n",
      "  (1434, 3147)\t0.042179827613694834\n",
      "  (1434, 2819)\t0.06105437581392134\n",
      "  (1434, 2573)\t0.04731679926285953\n",
      "  (1434, 2561)\t0.03846371974675435\n",
      "  (1434, 2030)\t0.028616400227856765\n",
      "  (1434, 2012)\t0.08559190321674236\n",
      "  (1434, 1960)\t0.03185005944069593\n",
      "  (1434, 1722)\t0.03240388699228667\n",
      "  (1434, 1620)\t0.022145794610208273\n",
      "  (1434, 1568)\t0.04365947524207155\n",
      "  (1434, 1514)\t0.05531789302727905\n",
      "  (1434, 1120)\t0.06275646970063857\n",
      "  (1434, 995)\t0.021615649349523147\n",
      "  (1434, 967)\t0.07308348065048759\n",
      "  (1434, 891)\t0.05962011977845112\n",
      "  (1434, 852)\t0.030895779421158474\n",
      "  (1434, 790)\t0.07722649090871392\n",
      "  (1434, 769)\t0.033781536775085635\n",
      "  (1434, 714)\t0.04661562502037142\n",
      "  (1434, 691)\t0.05572288645129826\n",
      "  (1434, 611)\t0.052201296297816176\n",
      "  (1434, 431)\t0.02626224216200746\n"
     ]
    }
   ],
   "source": [
    "print(X)"
   ]
  },
  {
   "cell_type": "code",
   "execution_count": 91,
   "metadata": {},
   "outputs": [
    {
     "data": {
      "text/plain": [
       "(1435, 13889)"
      ]
     },
     "execution_count": 91,
     "metadata": {},
     "output_type": "execute_result"
    }
   ],
   "source": [
    "X.shape\n"
   ]
  },
  {
   "cell_type": "code",
   "execution_count": 92,
   "metadata": {},
   "outputs": [
    {
     "name": "stdout",
     "output_type": "stream",
     "text": [
      "0       2\n",
      "1       2\n",
      "2       2\n",
      "3       2\n",
      "4       2\n",
      "       ..\n",
      "1430    2\n",
      "1431    2\n",
      "1432    2\n",
      "1433    2\n",
      "1434    2\n",
      "Name: Overall, Length: 1435, dtype: int64\n"
     ]
    }
   ],
   "source": [
    "Y = data['Overall']. apply(lambda y_value : 2 if y_value < 2 else 2)\n",
    "print(Y)"
   ]
  },
  {
   "cell_type": "code",
   "execution_count": 93,
   "metadata": {},
   "outputs": [],
   "source": [
    "X_train, X_test, Y_train, Y_test = train_test_split(X, Y, test_size = 0.2, stratify=Y, random_state=2)"
   ]
  },
  {
   "cell_type": "code",
   "execution_count": 98,
   "metadata": {},
   "outputs": [
    {
     "ename": "ValueError",
     "evalue": "This solver needs samples of at least 2 classes in the data, but the data contains only one class: 2",
     "output_type": "error",
     "traceback": [
      "\u001b[1;31m---------------------------------------------------------------------------\u001b[0m",
      "\u001b[1;31mValueError\u001b[0m                                Traceback (most recent call last)",
      "Cell \u001b[1;32mIn[98], line 3\u001b[0m\n\u001b[0;32m      1\u001b[0m model \u001b[39m=\u001b[39m LogisticRegression()\n\u001b[1;32m----> 3\u001b[0m model\u001b[39m.\u001b[39;49mfit(X_train, Y_train)\n",
      "File \u001b[1;32mc:\\Users\\namra\\AppData\\Local\\Programs\\Python\\Python310\\lib\\site-packages\\sklearn\\linear_model\\_logistic.py:1183\u001b[0m, in \u001b[0;36mLogisticRegression.fit\u001b[1;34m(self, X, y, sample_weight)\u001b[0m\n\u001b[0;32m   1181\u001b[0m classes_ \u001b[39m=\u001b[39m \u001b[39mself\u001b[39m\u001b[39m.\u001b[39mclasses_\n\u001b[0;32m   1182\u001b[0m \u001b[39mif\u001b[39;00m n_classes \u001b[39m<\u001b[39m \u001b[39m2\u001b[39m:\n\u001b[1;32m-> 1183\u001b[0m     \u001b[39mraise\u001b[39;00m \u001b[39mValueError\u001b[39;00m(\n\u001b[0;32m   1184\u001b[0m         \u001b[39m\"\u001b[39m\u001b[39mThis solver needs samples of at least 2 classes\u001b[39m\u001b[39m\"\u001b[39m\n\u001b[0;32m   1185\u001b[0m         \u001b[39m\"\u001b[39m\u001b[39m in the data, but the data contains only one\u001b[39m\u001b[39m\"\u001b[39m\n\u001b[0;32m   1186\u001b[0m         \u001b[39m\"\u001b[39m\u001b[39m class: \u001b[39m\u001b[39m%r\u001b[39;00m\u001b[39m\"\u001b[39m\n\u001b[0;32m   1187\u001b[0m         \u001b[39m%\u001b[39m classes_[\u001b[39m0\u001b[39m]\n\u001b[0;32m   1188\u001b[0m     )\n\u001b[0;32m   1190\u001b[0m \u001b[39mif\u001b[39;00m \u001b[39mlen\u001b[39m(\u001b[39mself\u001b[39m\u001b[39m.\u001b[39mclasses_) \u001b[39m==\u001b[39m \u001b[39m2\u001b[39m:\n\u001b[0;32m   1191\u001b[0m     n_classes \u001b[39m=\u001b[39m \u001b[39m1\u001b[39m\n",
      "\u001b[1;31mValueError\u001b[0m: This solver needs samples of at least 2 classes in the data, but the data contains only one class: 2"
     ]
    }
   ],
   "source": [
    "model = LogisticRegression()\n",
    "\n",
    "model.fit(X_train, Y_train)"
   ]
  },
  {
   "cell_type": "code",
   "execution_count": null,
   "metadata": {},
   "outputs": [],
   "source": []
  }
 ],
 "metadata": {
  "kernelspec": {
   "display_name": "Python 3",
   "language": "python",
   "name": "python3"
  },
  "language_info": {
   "codemirror_mode": {
    "name": "ipython",
    "version": 3
   },
   "file_extension": ".py",
   "mimetype": "text/x-python",
   "name": "python",
   "nbconvert_exporter": "python",
   "pygments_lexer": "ipython3",
   "version": "3.10.2"
  },
  "orig_nbformat": 4
 },
 "nbformat": 4,
 "nbformat_minor": 2
}
