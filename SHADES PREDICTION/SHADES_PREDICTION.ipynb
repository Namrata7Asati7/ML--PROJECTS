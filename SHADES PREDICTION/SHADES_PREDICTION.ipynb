{
 "cells": [
  {
   "cell_type": "code",
   "execution_count": 99,
   "metadata": {},
   "outputs": [],
   "source": [
    "import numpy as np\n",
    "import pandas as pd\n",
    "import matplotlib.pyplot as plt\n",
    "import seaborn as sns\n",
    "from sklearn.ensemble import RandomForestClassifier\n",
    "from sklearn.metrics import accuracy_score\n",
    "from sklearn.feature_extraction.text import TfidfVectorizer\n",
    "from sklearn.model_selection import train_test_split\n",
    "from sklearn.linear_model import LogisticRegression\n"
   ]
  },
  {
   "cell_type": "code",
   "execution_count": 100,
   "metadata": {},
   "outputs": [],
   "source": [
    "DATA = pd.read_csv('shades.csv')"
   ]
  },
  {
   "cell_type": "code",
   "execution_count": 101,
   "metadata": {},
   "outputs": [
    {
     "data": {
      "text/plain": [
       "(625, 6)"
      ]
     },
     "execution_count": 101,
     "metadata": {},
     "output_type": "execute_result"
    }
   ],
   "source": [
    "DATA.shape"
   ]
  },
  {
   "cell_type": "code",
   "execution_count": 102,
   "metadata": {},
   "outputs": [
    {
     "data": {
      "text/html": [
       "<div>\n",
       "<style scoped>\n",
       "    .dataframe tbody tr th:only-of-type {\n",
       "        vertical-align: middle;\n",
       "    }\n",
       "\n",
       "    .dataframe tbody tr th {\n",
       "        vertical-align: top;\n",
       "    }\n",
       "\n",
       "    .dataframe thead th {\n",
       "        text-align: right;\n",
       "    }\n",
       "</style>\n",
       "<table border=\"1\" class=\"dataframe\">\n",
       "  <thead>\n",
       "    <tr style=\"text-align: right;\">\n",
       "      <th></th>\n",
       "      <th>hex</th>\n",
       "      <th>H</th>\n",
       "      <th>S</th>\n",
       "      <th>V</th>\n",
       "      <th>L</th>\n",
       "      <th>group</th>\n",
       "    </tr>\n",
       "  </thead>\n",
       "  <tbody>\n",
       "    <tr>\n",
       "      <th>0</th>\n",
       "      <td>f3cfb3</td>\n",
       "      <td>26.0</td>\n",
       "      <td>0.26</td>\n",
       "      <td>0.95</td>\n",
       "      <td>86</td>\n",
       "      <td>2</td>\n",
       "    </tr>\n",
       "    <tr>\n",
       "      <th>1</th>\n",
       "      <td>ffe3c2</td>\n",
       "      <td>32.0</td>\n",
       "      <td>0.24</td>\n",
       "      <td>1.00</td>\n",
       "      <td>92</td>\n",
       "      <td>2</td>\n",
       "    </tr>\n",
       "    <tr>\n",
       "      <th>2</th>\n",
       "      <td>ffe0cd</td>\n",
       "      <td>23.0</td>\n",
       "      <td>0.20</td>\n",
       "      <td>1.00</td>\n",
       "      <td>91</td>\n",
       "      <td>2</td>\n",
       "    </tr>\n",
       "    <tr>\n",
       "      <th>3</th>\n",
       "      <td>ffd3be</td>\n",
       "      <td>19.0</td>\n",
       "      <td>0.25</td>\n",
       "      <td>1.00</td>\n",
       "      <td>88</td>\n",
       "      <td>2</td>\n",
       "    </tr>\n",
       "    <tr>\n",
       "      <th>4</th>\n",
       "      <td>bd9584</td>\n",
       "      <td>18.0</td>\n",
       "      <td>0.30</td>\n",
       "      <td>0.74</td>\n",
       "      <td>65</td>\n",
       "      <td>2</td>\n",
       "    </tr>\n",
       "  </tbody>\n",
       "</table>\n",
       "</div>"
      ],
      "text/plain": [
       "      hex     H     S     V   L  group\n",
       "0  f3cfb3  26.0  0.26  0.95  86      2\n",
       "1  ffe3c2  32.0  0.24  1.00  92      2\n",
       "2  ffe0cd  23.0  0.20  1.00  91      2\n",
       "3  ffd3be  19.0  0.25  1.00  88      2\n",
       "4  bd9584  18.0  0.30  0.74  65      2"
      ]
     },
     "execution_count": 102,
     "metadata": {},
     "output_type": "execute_result"
    }
   ],
   "source": [
    "DATA.head()"
   ]
  },
  {
   "cell_type": "code",
   "execution_count": 103,
   "metadata": {},
   "outputs": [
    {
     "data": {
      "text/html": [
       "<div>\n",
       "<style scoped>\n",
       "    .dataframe tbody tr th:only-of-type {\n",
       "        vertical-align: middle;\n",
       "    }\n",
       "\n",
       "    .dataframe tbody tr th {\n",
       "        vertical-align: top;\n",
       "    }\n",
       "\n",
       "    .dataframe thead th {\n",
       "        text-align: right;\n",
       "    }\n",
       "</style>\n",
       "<table border=\"1\" class=\"dataframe\">\n",
       "  <thead>\n",
       "    <tr style=\"text-align: right;\">\n",
       "      <th></th>\n",
       "      <th>hex</th>\n",
       "      <th>H</th>\n",
       "      <th>S</th>\n",
       "      <th>V</th>\n",
       "      <th>L</th>\n",
       "      <th>group</th>\n",
       "    </tr>\n",
       "  </thead>\n",
       "  <tbody>\n",
       "    <tr>\n",
       "      <th>620</th>\n",
       "      <td>eecfba</td>\n",
       "      <td>24.0</td>\n",
       "      <td>0.22</td>\n",
       "      <td>0.93</td>\n",
       "      <td>85</td>\n",
       "      <td>7</td>\n",
       "    </tr>\n",
       "    <tr>\n",
       "      <th>621</th>\n",
       "      <td>e8c7b8</td>\n",
       "      <td>19.0</td>\n",
       "      <td>0.21</td>\n",
       "      <td>0.91</td>\n",
       "      <td>83</td>\n",
       "      <td>7</td>\n",
       "    </tr>\n",
       "    <tr>\n",
       "      <th>622</th>\n",
       "      <td>f0cbb9</td>\n",
       "      <td>20.0</td>\n",
       "      <td>0.23</td>\n",
       "      <td>0.94</td>\n",
       "      <td>85</td>\n",
       "      <td>7</td>\n",
       "    </tr>\n",
       "    <tr>\n",
       "      <th>623</th>\n",
       "      <td>e9c4b1</td>\n",
       "      <td>20.0</td>\n",
       "      <td>0.24</td>\n",
       "      <td>0.91</td>\n",
       "      <td>82</td>\n",
       "      <td>7</td>\n",
       "    </tr>\n",
       "    <tr>\n",
       "      <th>624</th>\n",
       "      <td>eabea1</td>\n",
       "      <td>24.0</td>\n",
       "      <td>0.31</td>\n",
       "      <td>0.92</td>\n",
       "      <td>80</td>\n",
       "      <td>7</td>\n",
       "    </tr>\n",
       "  </tbody>\n",
       "</table>\n",
       "</div>"
      ],
      "text/plain": [
       "        hex     H     S     V   L  group\n",
       "620  eecfba  24.0  0.22  0.93  85      7\n",
       "621  e8c7b8  19.0  0.21  0.91  83      7\n",
       "622  f0cbb9  20.0  0.23  0.94  85      7\n",
       "623  e9c4b1  20.0  0.24  0.91  82      7\n",
       "624  eabea1  24.0  0.31  0.92  80      7"
      ]
     },
     "execution_count": 103,
     "metadata": {},
     "output_type": "execute_result"
    }
   ],
   "source": [
    "DATA.tail()"
   ]
  },
  {
   "cell_type": "code",
   "execution_count": 104,
   "metadata": {},
   "outputs": [
    {
     "data": {
      "text/plain": [
       "hex       0\n",
       "H        12\n",
       "S        12\n",
       "V        12\n",
       "L         0\n",
       "group     0\n",
       "dtype: int64"
      ]
     },
     "execution_count": 104,
     "metadata": {},
     "output_type": "execute_result"
    }
   ],
   "source": [
    "DATA.isnull().sum()"
   ]
  },
  {
   "cell_type": "code",
   "execution_count": 105,
   "metadata": {},
   "outputs": [],
   "source": [
    "DATA = DATA.fillna(' ')"
   ]
  },
  {
   "cell_type": "code",
   "execution_count": 106,
   "metadata": {},
   "outputs": [
    {
     "data": {
      "text/plain": [
       "hex      0\n",
       "H        0\n",
       "S        0\n",
       "V        0\n",
       "L        0\n",
       "group    0\n",
       "dtype: int64"
      ]
     },
     "execution_count": 106,
     "metadata": {},
     "output_type": "execute_result"
    }
   ],
   "source": [
    "DATA.isnull().sum()"
   ]
  },
  {
   "cell_type": "code",
   "execution_count": 107,
   "metadata": {},
   "outputs": [
    {
     "data": {
      "text/html": [
       "<div>\n",
       "<style scoped>\n",
       "    .dataframe tbody tr th:only-of-type {\n",
       "        vertical-align: middle;\n",
       "    }\n",
       "\n",
       "    .dataframe tbody tr th {\n",
       "        vertical-align: top;\n",
       "    }\n",
       "\n",
       "    .dataframe thead th {\n",
       "        text-align: right;\n",
       "    }\n",
       "</style>\n",
       "<table border=\"1\" class=\"dataframe\">\n",
       "  <thead>\n",
       "    <tr style=\"text-align: right;\">\n",
       "      <th></th>\n",
       "      <th>L</th>\n",
       "      <th>group</th>\n",
       "    </tr>\n",
       "  </thead>\n",
       "  <tbody>\n",
       "    <tr>\n",
       "      <th>count</th>\n",
       "      <td>625.000000</td>\n",
       "      <td>625.000000</td>\n",
       "    </tr>\n",
       "    <tr>\n",
       "      <th>mean</th>\n",
       "      <td>65.920000</td>\n",
       "      <td>3.472000</td>\n",
       "    </tr>\n",
       "    <tr>\n",
       "      <th>std</th>\n",
       "      <td>17.512267</td>\n",
       "      <td>1.976529</td>\n",
       "    </tr>\n",
       "    <tr>\n",
       "      <th>min</th>\n",
       "      <td>11.000000</td>\n",
       "      <td>0.000000</td>\n",
       "    </tr>\n",
       "    <tr>\n",
       "      <th>25%</th>\n",
       "      <td>55.000000</td>\n",
       "      <td>2.000000</td>\n",
       "    </tr>\n",
       "    <tr>\n",
       "      <th>50%</th>\n",
       "      <td>71.000000</td>\n",
       "      <td>3.000000</td>\n",
       "    </tr>\n",
       "    <tr>\n",
       "      <th>75%</th>\n",
       "      <td>79.000000</td>\n",
       "      <td>5.000000</td>\n",
       "    </tr>\n",
       "    <tr>\n",
       "      <th>max</th>\n",
       "      <td>95.000000</td>\n",
       "      <td>7.000000</td>\n",
       "    </tr>\n",
       "  </tbody>\n",
       "</table>\n",
       "</div>"
      ],
      "text/plain": [
       "                L       group\n",
       "count  625.000000  625.000000\n",
       "mean    65.920000    3.472000\n",
       "std     17.512267    1.976529\n",
       "min     11.000000    0.000000\n",
       "25%     55.000000    2.000000\n",
       "50%     71.000000    3.000000\n",
       "75%     79.000000    5.000000\n",
       "max     95.000000    7.000000"
      ]
     },
     "execution_count": 107,
     "metadata": {},
     "output_type": "execute_result"
    }
   ],
   "source": [
    "DATA.describe()"
   ]
  },
  {
   "cell_type": "code",
   "execution_count": 108,
   "metadata": {},
   "outputs": [
    {
     "data": {
      "text/plain": [
       "<seaborn.axisgrid.FacetGrid at 0x22a7fdec610>"
      ]
     },
     "execution_count": 108,
     "metadata": {},
     "output_type": "execute_result"
    },
    {
     "data": {
      "image/png": "[encoded data removed]",
      "text/plain": [
       "<Figure size 500x500 with 1 Axes>"
      ]
     },
     "metadata": {},
     "output_type": "display_data"
    }
   ],
   "source": [
    "sns.catplot( x = 'group', data = DATA, kind = 'count')"
   ]
  },
  {
   "cell_type": "code",
   "execution_count": 109,
   "metadata": {},
   "outputs": [
    {
     "data": {
      "text/plain": [
       "<Axes: xlabel='group', ylabel='L'>"
      ]
     },
     "execution_count": 109,
     "metadata": {},
     "output_type": "execute_result"
    },
    {
     "data": {
      "image/png": "[encoded data removed]",
      "text/plain": [
       "<Figure size 500x500 with 1 Axes>"
      ]
     },
     "metadata": {},
     "output_type": "display_data"
    }
   ],
   "source": [
    "plot = plt.figure(figsize = (5,5))\n",
    "sns.barplot(x = 'group', y = 'L', data = DATA)"
   ]
  },
  {
   "cell_type": "code",
   "execution_count": 110,
   "metadata": {},
   "outputs": [
    {
     "data": {
      "text/plain": [
       "<Axes: xlabel='group', ylabel='H'>"
      ]
     },
     "execution_count": 110,
     "metadata": {},
     "output_type": "execute_result"
    },
    {
     "data": {
      "image/png": "[encoded data removed]",
      "text/plain": [
       "<Figure size 500x500 with 1 Axes>"
      ]
     },
     "metadata": {},
     "output_type": "display_data"
    }
   ],
   "source": [
    "plot = plt.figure(figsize = (5,5))\n",
    "sns.barplot(x = 'group', y = 'H', data = DATA)"
   ]
  },
  {
   "cell_type": "code",
   "execution_count": 111,
   "metadata": {},
   "outputs": [
    {
     "data": {
      "text/plain": [
       "<Axes: xlabel='group', ylabel='V'>"
      ]
     },
     "execution_count": 111,
     "metadata": {},
     "output_type": "execute_result"
    },
    {
     "data": {
      "image/png": "[encoded data removed]",
      "text/plain": [
       "<Figure size 500x500 with 1 Axes>"
      ]
     },
     "metadata": {},
     "output_type": "display_data"
    }
   ],
   "source": [
    "plot = plt.figure(figsize = (5,5))\n",
    "sns.barplot(x = 'group', y = 'V', data = DATA)"
   ]
  },
  {
   "cell_type": "code",
   "execution_count": 112,
   "metadata": {},
   "outputs": [
    {
     "data": {
      "text/plain": [
       "<Axes: xlabel='group', ylabel='S'>"
      ]
     },
     "execution_count": 112,
     "metadata": {},
     "output_type": "execute_result"
    },
    {
     "data": {
      "image/png": "[encoded data removed]",
      "text/plain": [
       "<Figure size 500x500 with 1 Axes>"
      ]
     },
     "metadata": {},
     "output_type": "display_data"
    }
   ],
   "source": [
    "plot = plt.figure(figsize = (5,5))\n",
    "sns.barplot(x = 'group', y = 'S', data = DATA)"
   ]
  },
  {
   "cell_type": "code",
   "execution_count": 113,
   "metadata": {},
   "outputs": [],
   "source": [
    "DATA['content'] = DATA['hex']"
   ]
  },
  {
   "cell_type": "code",
   "execution_count": 114,
   "metadata": {},
   "outputs": [
    {
     "name": "stdout",
     "output_type": "stream",
     "text": [
      "0      f3cfb3\n",
      "1      ffe3c2\n",
      "2      ffe0cd\n",
      "3      ffd3be\n",
      "4      bd9584\n",
      "        ...  \n",
      "620    eecfba\n",
      "621    e8c7b8\n",
      "622    f0cbb9\n",
      "623    e9c4b1\n",
      "624    eabea1\n",
      "Name: content, Length: 625, dtype: object\n"
     ]
    }
   ],
   "source": [
    "print(DATA['content'])"
   ]
  },
  {
   "cell_type": "code",
   "execution_count": 115,
   "metadata": {},
   "outputs": [],
   "source": [
    "X = DATA.drop(columns = 'group' , axis = 1)\n",
    "Y = DATA['group']"
   ]
  },
  {
   "cell_type": "code",
   "execution_count": 116,
   "metadata": {},
   "outputs": [
    {
     "name": "stdout",
     "output_type": "stream",
     "text": [
      "        hex     H     S     V   L content\n",
      "0    f3cfb3  26.0  0.26  0.95  86  f3cfb3\n",
      "1    ffe3c2  32.0  0.24   1.0  92  ffe3c2\n",
      "2    ffe0cd  23.0   0.2   1.0  91  ffe0cd\n",
      "3    ffd3be  19.0  0.25   1.0  88  ffd3be\n",
      "4    bd9584  18.0   0.3  0.74  65  bd9584\n",
      "..      ...   ...   ...   ...  ..     ...\n",
      "620  eecfba  24.0  0.22  0.93  85  eecfba\n",
      "621  e8c7b8  19.0  0.21  0.91  83  e8c7b8\n",
      "622  f0cbb9  20.0  0.23  0.94  85  f0cbb9\n",
      "623  e9c4b1  20.0  0.24  0.91  82  e9c4b1\n",
      "624  eabea1  24.0  0.31  0.92  80  eabea1\n",
      "\n",
      "[625 rows x 6 columns]\n"
     ]
    }
   ],
   "source": [
    "print(X)"
   ]
  },
  {
   "cell_type": "code",
   "execution_count": 117,
   "metadata": {},
   "outputs": [
    {
     "name": "stdout",
     "output_type": "stream",
     "text": [
      "0      2\n",
      "1      2\n",
      "2      2\n",
      "3      2\n",
      "4      2\n",
      "      ..\n",
      "620    7\n",
      "621    7\n",
      "622    7\n",
      "623    7\n",
      "624    7\n",
      "Name: group, Length: 625, dtype: int64\n"
     ]
    }
   ],
   "source": [
    "print(Y)"
   ]
  },
  {
   "cell_type": "code",
   "execution_count": 118,
   "metadata": {},
   "outputs": [],
   "source": [
    "X = DATA['content'].values\n",
    "Y = DATA['group'].values"
   ]
  },
  {
   "cell_type": "code",
   "execution_count": 119,
   "metadata": {},
   "outputs": [
    {
     "name": "stdout",
     "output_type": "stream",
     "text": [
      "['f3cfb3' 'ffe3c2' 'ffe0cd' 'ffd3be' 'bd9584' 'eabda6' 'fbd2ad' 'e2b597'\n",
      " 'e4b38e' 'b2856f' 'e8ba8c' 'f3b584' 'f0b996' 'e3b082' 'eab181' '9d7359'\n",
      " 'e2aa7b' 'd99358' '9c744f' 'b18b65' '84583f' '7d5631' 'c07746' '643c27'\n",
      " 'edcfb9' 'e1bba7' 'c1a07e' 'd09e7c' 'c7967d' 'c09578' '9d6f48' 'a86d40'\n",
      " '7f5c3b' '735642' '6b5041' '7d5c4d' '5c4433' '5e3a23' '5e4638' '3f2018'\n",
      " 'edceb2' 'f0cba1' 'ebc99c' 'e6bc94' 'dcb79a' 'eac8a3' 'e9c89e' 'd4ad8a'\n",
      " 'cfa786' 'd8b08c' 'd4a97f' 'deb58b' 'dbae85' 'd5a275' 'd1a67e' 'e0ab81'\n",
      " 'ca9f75' 'c69c6c' 'bd9359' 'b38355' 'ab7945' 'ab7944' 'ad7d59' 'a16c38'\n",
      " '976236' '8a5833' '8d5c31' '775436' '6e4b2f' 'ffd6ba' 'd0a26e' 'c48f56'\n",
      " 'bb8046' 'ffc8a3' 'd8bba3' 'fac7a7' 'ffcba6' 'e5b593' 'dea365' 'd8a46d'\n",
      " 'f2bb96' 'd4a066' 'f2bf91' 'edbe98' 'e7b79c' 'ebad81' 'ddb491' 'e5ad8a'\n",
      " 'd59a71' 'cf905d' 'd69060' 'be8058' 'd7986d' 'ad7247' 'c27440' 'c0976b'\n",
      " '99562c' 'da926b' 'a35829' 'b56e38' 'a85f2a' '8f4d2b' '864f26' '8f5c35'\n",
      " '895c26' 'aa6533' '925b2d' '77421e' '724727' '7e512d' '5e3617' 'f9caac'\n",
      " 'f8c7a1' 'f1bc96' 'f1b496' 'e8b29c' 'e2ae8e' 'dfa48c' 'e4a87f' 'e1a681'\n",
      " 'd5a187' 'dba787' 'd79f86' 'd5a187' 'de9a77' 'cb8f6e' 'c98667' 'c68f71'\n",
      " 'ba8568' 'a7745e' '8e6558' 'eec498' 'eec29e' 'f3c6a2' 'e5ad8b' 'e7ad82'\n",
      " 'eeb67e' 'e8b481' 'daa271' 'd49e6c' 'c0844e' 'c27f48' 'da9e6b' 'b87740'\n",
      " '925422' 'fadcc8' 'fcd6c7' 'f7cab1' 'deb09e' 'd1a396' 'cf9c7d' 'd99959'\n",
      " '754728' '4d2c0a' '4d2006' 'e1ad81' 'deb192' 'e3b490' 'e9b898' 'e8bb9c'\n",
      " 'e1b7a0' 'eac4ae' 'eac7ab' 'eabe9e' 'e5b39a' 'e7b590' 'f7dcca' 'fde9de'\n",
      " 'fde7da' 'fde3cc' 'f2d3b1' 'fce1c6' 'efd1b7' 'f4cca8' 'e8bfa3' 'fad5b8'\n",
      " 'e9c39f' 'e8bc99' 'e2ad85' 'eeba93' 'dfad89' 'd9a57d' 'e4ac7c' 'dca77d'\n",
      " 'd59d6d' 'e7ae85' 'dcb17d' 'ca9262' 'd28f58' 'd39063' 'd39156' 'ac7752'\n",
      " 'b67849' 'bd7b45' 'c98256' 'ca875a' 'a86b3f' 'a65e23' '9d5d2d' 'ab6939'\n",
      " '894f29' '9b5b35' '824f30' '7d452c' '6d3b20' '683a20' '583218' 'e1bea4'\n",
      " 'e5ae86' 'c38e63' 'ac703d' '9e6209' '855723' '793f0d' '64300a' '532e1e'\n",
      " '4e2a1a' '623f2c' '8e532b' '985223' 'a86738' 'a16f4c' 'a4683b' 'a4683b'\n",
      " 'ba7246' 'a86d46' 'b47c57' 'cc9561' 'd6a878' 'd0a37f' 'f1c78e' 'f2cea2'\n",
      " 'f5dab6' 'e9c096' 'edcbab' 'f2dac1' 'f2dbbb' 'f3dabc' 'f3dbbc' 'f6e2c7'\n",
      " 'f4dfc9' 'f9ecc5' 'f9ebcd' 'f3e2ce' 'f5e8d7' 'eed1b5' 'daaa80' 'd7a778'\n",
      " 'dfa46f' 'd28f66' 'ad6d41' 'c98c60' 'bf7a43' 'ac734c' 'b97245' 'a0522c'\n",
      " '9e5a35' '97472e' '7e3e2a' '7b3625' '653129' '3b2218' '352315' 'b77d57'\n",
      " 'bc835b' 'b67753' 'b77d53' '7b4e34' '7a523a' '71412d' '81523e' '6a4338'\n",
      " '543022' '5d3e2e' '4c2e22' 'a66c4b' 'bb8f7f' 'dfb9af' 'b7743c' '924829'\n",
      " 'a37452' '6c4529' '321407' 'cc9d72' 'a66c49' 'be784d' '592d24' 'b68e6f'\n",
      " 'b19277' 'a3724a' '742b13' 'deb399' 'fdece4' 'f4d1ab' 'eec1a0' 'eac398'\n",
      " 'e9be9e' 'deba96' 'dcb190' 'ddb391' 'e4ba8c' 'e2b78f' 'e5b189' 'f3c796'\n",
      " 'f3bf90' 'e1af8c' 'ddb184' 'dca77d' 'd6a77d' 'd7a17f' 'd7a17d' 'dda876'\n",
      " 'e39f72' 'cf9162' 'e0a16b' 'd0975d' 'd29e6d' 'c9925e' 'ce8c5c' 'bb7e44'\n",
      " 'ce9163' 'bd7f56' '935427' 'bc7c56' 'aa6941' '9b5e41' '8a4d30' '7b3c11'\n",
      " '7.03E+25' '502716' '7c3f2c' '391b11' 'd8b593' 'fbbe91' 'd2ae88' 'd0a87f'\n",
      " 'd79051' 'ffdbc2' 'ffc9a9' 'ffd7b4' 'dfc7a8' 'dabc96' 'd9b88f' 'd4b588'\n",
      " 'd0ae84' 'd3b18a' 'd1ac7f' 'd0a97b' 'c9a177' 'c5986d' 'd5844b' 'db864d'\n",
      " 'b5855a' 'b38456' 'e5d1be' 'e0c8ae' 'e0c1a2' 'dcbca2' 'dbbc9f' 'd9b28d'\n",
      " 'd5b293' 'd5ad89' 'd1a88a' 'cfa67d' 'cba275' 'c39368' 'b28050' 'b9855a'\n",
      " 'b27949' 'ae7a50' 'a77246' 'a0714d' 'a9734e' '724a32' 'f5e0c8' 'efcfaf'\n",
      " 'e8bca4' 'e5bc92' 'debe97' 'e9c9aa' 'eac49f' 'ecc3a1' 'e2b996' 'd29e7b'\n",
      " 'd9a779' 'd6a075' 'd3996f' 'd7a770' 'ca8f63' 'd29d71' 'd09059' 'ca9450'\n",
      " 'cc9357' 'b27c3b' 'a86829' 'b87840' '9a4e28' '81562f' 'aa6a2f' '9b5127'\n",
      " '7e462d' '8e4922' '7b2800' '623726' 'f9e3d5' 'f6d2bb' 'f9d5c3' 'f7c3b3'\n",
      " 'deccaf' 'e1c2a8' 'efd2b8' 'f7bcb7' 'ebcab0' 'eac1ac' 'e8c6a3' 'f2ccb7'\n",
      " 'dca795' 'e4bd9c' 'daad90' 'd8ab8b' 'ddb395' 'e3b391' 'e3b296' 'dcb59c'\n",
      " 'd79e89' 'd9a586' 'd19578' 'e7b391' 'd4a689' 'd69b81' 'd59682' 'c99980'\n",
      " 'c98567' 'c7977b' 'be8470' 'c78569' 'b68069' 'b17862' '996754' '9c624a'\n",
      " '8e5642' '784a42' '895852' '644136' 'f6a762' 'd76b4c' 'ad543d' 'c86835'\n",
      " '904134' '92524e' 'bf6b44' '915831' 'ea8944' 'eebb7a' 'ae7748' 'b68358'\n",
      " 'a77546' 'a36c3b' '89562c' '9a572c' '904d2e' '783f23' '75391c' '602d18'\n",
      " '5b2717' 'e2ac7c' 'b17e4f' '8c5b3d' 'b0704d' 'd89757' 'c48b58' 'fcd1a7'\n",
      " 'e2ac7c' 'b17e51' '9d6d49' 'b0704d' '8c5b3d' '795340' '815d51' '845949'\n",
      " '8b614b' '906656' '774c43' '734b41' '88614d' 'ba8261' 'd9ab88' 'd49a74'\n",
      " 'cf8a60' 'c78660' 'e0a260' 'cc8b65' 'c78660' 'b2724f' 'fcdba8' 'fbd099'\n",
      " 'f7be87' 'f0a762' 'e8a463' 'fddcbb' 'f9c89f' 'f3c095' 'c17663' 'ffdcbe'\n",
      " 'ffd8b9' 'fdd5b4' 'fdcfad' 'fdcba6' 'fcc59e' 'f8bf88' 'f3bc86' 'eab17a'\n",
      " 'e9b079' 'dfaa76' 'dda376' 'daa272' 'db9e70' 'd69668' 'c38355' 'c37f4e'\n",
      " 'e9a986' 'fac6a1' 'c99e76' 'e0aa7c' 'ebc095' 'f9dabd' 'af8749' 'c89a5e'\n",
      " 'dbab6d' 'e5bf81' 'f4d6a4' 'edb899' 'e8b193' 'ebb68c' 'e9b085' 'd69e7b'\n",
      " 'cb9068' 'f7d5bb' 'e8b793' 'dca67e' 'ebbd88' 'd19c72' 'c28660' 'edc69f'\n",
      " 'efc9a5' 'ecbb9a' 'e9b494' 'e7aa8d' 'edc0a3' 'e6c6ad' 'e7cbac' 'edc8af'\n",
      " 'e2bda2' 'e4bf9a' 'd7a98a' 'fad8a7' 'efbf99' 'f6d0a1' 'ecb98c' 'e7ab74'\n",
      " 'e6b685' 'dd9e6d' 'e4aa7c' 'dfa575' 'da9b5a' 'e4a36a' 'ca8a55' 'ce8440'\n",
      " 'c39d76' 'bc8b63' 'c88f72' 'deaf91' 'cd9d77' 'ecc3a5' 'e5ae87' 'd7ac7a'\n",
      " 'd7b182' 'ce9c6a' 'eec693' 'd7c499' 'e3b385' 'cba167' 'eb893e' 'ef9a5a'\n",
      " 'd0803b' 'b76f47' 'ebb08a' 'e8b684' 'eec1a2' 'b7a597' 'f0c092' 'd0985f'\n",
      " 'cb9070' 'dfab86' 'd19676' 'd4ac93' 'ebc7af' 'f7d1bc' 'f3b989' 'f0ba81'\n",
      " 'ebba8a' 'd69c74' 'f9d0b0' 'fbd5bd' 'e7b9a2' 'dcb297' 'e6b898' 'ebbf93'\n",
      " 'efb793' 'ebba8a' 'f3b27d' '693720' 'b07555' 'bc6d4e' 'c29979' 'ddb496'\n",
      " 'eebfa3' 'e7cbb5' 'dcb29a' 'f0c7b3' 'eecfba' 'e8c7b8' 'f0cbb9' 'e9c4b1'\n",
      " 'eabea1']\n"
     ]
    }
   ],
   "source": [
    "print(X)"
   ]
  },
  {
   "cell_type": "code",
   "execution_count": 120,
   "metadata": {},
   "outputs": [
    {
     "name": "stdout",
     "output_type": "stream",
     "text": [
      "[2 2 2 2 2 2 2 2 2 2 2 2 2 2 2 2 2 2 2 2 2 2 2 2 2 2 2 2 2 2 2 2 2 2 2 2 2\n",
      " 2 2 2 2 2 2 2 2 2 2 2 2 2 2 2 2 2 2 2 2 2 2 2 2 2 2 2 2 2 2 2 2 2 2 2 2 2\n",
      " 2 2 2 2 2 2 2 2 2 2 2 2 2 2 2 2 2 2 2 2 2 2 2 2 2 2 2 2 2 2 2 2 2 2 2 2 2\n",
      " 2 2 2 2 2 2 2 2 2 2 2 2 2 2 2 2 2 2 2 2 2 2 2 2 2 2 2 2 2 2 2 2 2 2 2 2 2\n",
      " 2 2 2 2 2 2 2 2 2 2 2 2 2 2 2 2 2 2 2 0 0 0 0 0 0 0 0 0 0 0 0 0 0 0 0 0 0\n",
      " 0 0 0 0 0 0 0 0 0 0 0 0 0 0 0 0 0 0 0 0 0 0 3 3 3 3 3 3 3 3 3 3 3 3 3 3 3\n",
      " 3 3 3 3 3 3 3 3 3 3 3 3 3 3 3 3 3 3 3 3 3 3 3 3 3 3 3 3 3 3 3 3 3 3 3 3 3\n",
      " 3 3 3 3 3 3 3 3 3 3 3 3 3 3 3 3 3 3 3 3 3 3 3 3 3 3 3 3 3 3 3 3 3 4 4 4 4\n",
      " 4 4 4 4 4 4 4 4 4 4 4 4 4 4 4 4 4 4 4 4 4 4 4 4 4 4 4 4 4 4 4 4 4 4 4 4 4\n",
      " 4 4 4 4 4 4 4 4 4 4 4 4 4 4 4 4 4 4 4 4 4 4 4 4 4 4 4 4 4 4 4 4 4 4 4 4 4\n",
      " 4 4 4 4 4 4 4 4 4 4 4 4 4 4 4 4 4 4 4 4 4 4 4 4 4 4 4 4 4 4 4 4 4 4 1 1 1\n",
      " 1 1 1 1 1 1 1 1 1 1 1 1 1 1 1 1 1 1 1 1 1 1 1 1 1 1 1 1 1 1 1 1 1 1 1 1 1\n",
      " 5 5 5 5 5 5 5 5 5 5 5 5 5 5 5 5 5 5 5 5 5 5 5 5 5 5 5 5 5 5 5 5 5 5 5 5 5\n",
      " 5 5 5 5 5 5 5 5 5 5 5 5 5 6 6 6 6 6 6 6 6 6 6 6 6 6 6 6 6 6 6 6 6 6 6 6 6\n",
      " 6 6 6 6 6 6 6 6 6 6 6 6 6 6 6 6 6 6 6 6 6 6 6 6 6 6 6 6 6 6 6 6 6 6 6 6 6\n",
      " 6 6 6 6 6 6 6 6 6 6 6 6 6 7 7 7 7 7 7 7 7 7 7 7 7 7 7 7 7 7 7 7 7 7 7 7 7\n",
      " 7 7 7 7 7 7 7 7 7 7 7 7 7 7 7 7 7 7 7 7 7 7 7 7 7 7 7 7 7 7 7 7 7]\n"
     ]
    }
   ],
   "source": [
    "print(Y)"
   ]
  },
  {
   "cell_type": "code",
   "execution_count": 121,
   "metadata": {},
   "outputs": [],
   "source": [
    "vectorizer = TfidfVectorizer()\n",
    "vectorizer.fit(X)\n",
    "\n",
    "X = vectorizer.transform(X)"
   ]
  },
  {
   "cell_type": "code",
   "execution_count": 122,
   "metadata": {},
   "outputs": [
    {
     "name": "stdout",
     "output_type": "stream",
     "text": [
      "  (0, 553)\t1.0\n",
      "  (1, 617)\t1.0\n",
      "  (2, 616)\t1.0\n",
      "  (3, 610)\t1.0\n",
      "  (4, 197)\t1.0\n",
      "  (5, 478)\t1.0\n",
      "  (6, 592)\t1.0\n",
      "  (7, 409)\t1.0\n",
      "  (8, 423)\t1.0\n",
      "  (9, 164)\t1.0\n",
      "  (10, 457)\t1.0\n",
      "  (11, 546)\t1.0\n",
      "  (12, 529)\t1.0\n",
      "  (13, 414)\t1.0\n",
      "  (14, 477)\t1.0\n",
      "  (15, 112)\t1.0\n",
      "  (16, 405)\t1.0\n",
      "  (17, 334)\t1.0\n",
      "  (18, 108)\t1.0\n",
      "  (19, 158)\t1.0\n",
      "  (20, 68)\t1.0\n",
      "  (21, 58)\t1.0\n",
      "  (22, 203)\t1.0\n",
      "  (23, 26)\t1.0\n",
      "  (24, 509)\t1.0\n",
      "  :\t:\n",
      "  (600, 491)\t1.0\n",
      "  (601, 310)\t1.0\n",
      "  (602, 579)\t1.0\n",
      "  (603, 593)\t1.0\n",
      "  (604, 448)\t1.0\n",
      "  (605, 361)\t1.0\n",
      "  (606, 438)\t1.0\n",
      "  (607, 493)\t1.0\n",
      "  (608, 522)\t1.0\n",
      "  (609, 491)\t1.0\n",
      "  (610, 545)\t1.0\n",
      "  (611, 30)\t1.0\n",
      "  (612, 154)\t1.0\n",
      "  (613, 190)\t1.0\n",
      "  (614, 212)\t1.0\n",
      "  (615, 373)\t1.0\n",
      "  (616, 513)\t1.0\n",
      "  (617, 450)\t1.0\n",
      "  (618, 362)\t1.0\n",
      "  (619, 532)\t1.0\n",
      "  (620, 519)\t1.0\n",
      "  (621, 463)\t1.0\n",
      "  (622, 534)\t1.0\n",
      "  (623, 472)\t1.0\n",
      "  (624, 480)\t1.0\n"
     ]
    }
   ],
   "source": [
    "print(X)"
   ]
  },
  {
   "cell_type": "code",
   "execution_count": 123,
   "metadata": {},
   "outputs": [
    {
     "data": {
      "text/html": [
       "<div>\n",
       "<style scoped>\n",
       "    .dataframe tbody tr th:only-of-type {\n",
       "        vertical-align: middle;\n",
       "    }\n",
       "\n",
       "    .dataframe tbody tr th {\n",
       "        vertical-align: top;\n",
       "    }\n",
       "\n",
       "    .dataframe thead th {\n",
       "        text-align: right;\n",
       "    }\n",
       "</style>\n",
       "<table border=\"1\" class=\"dataframe\">\n",
       "  <thead>\n",
       "    <tr style=\"text-align: right;\">\n",
       "      <th></th>\n",
       "      <th>hex</th>\n",
       "      <th>H</th>\n",
       "      <th>S</th>\n",
       "      <th>V</th>\n",
       "      <th>L</th>\n",
       "      <th>group</th>\n",
       "      <th>content</th>\n",
       "    </tr>\n",
       "  </thead>\n",
       "  <tbody>\n",
       "    <tr>\n",
       "      <th>0</th>\n",
       "      <td>f3cfb3</td>\n",
       "      <td>26.0</td>\n",
       "      <td>0.26</td>\n",
       "      <td>0.95</td>\n",
       "      <td>86</td>\n",
       "      <td>2</td>\n",
       "      <td>f3cfb3</td>\n",
       "    </tr>\n",
       "    <tr>\n",
       "      <th>1</th>\n",
       "      <td>ffe3c2</td>\n",
       "      <td>32.0</td>\n",
       "      <td>0.24</td>\n",
       "      <td>1.0</td>\n",
       "      <td>92</td>\n",
       "      <td>2</td>\n",
       "      <td>ffe3c2</td>\n",
       "    </tr>\n",
       "    <tr>\n",
       "      <th>2</th>\n",
       "      <td>ffe0cd</td>\n",
       "      <td>23.0</td>\n",
       "      <td>0.2</td>\n",
       "      <td>1.0</td>\n",
       "      <td>91</td>\n",
       "      <td>2</td>\n",
       "      <td>ffe0cd</td>\n",
       "    </tr>\n",
       "    <tr>\n",
       "      <th>3</th>\n",
       "      <td>ffd3be</td>\n",
       "      <td>19.0</td>\n",
       "      <td>0.25</td>\n",
       "      <td>1.0</td>\n",
       "      <td>88</td>\n",
       "      <td>2</td>\n",
       "      <td>ffd3be</td>\n",
       "    </tr>\n",
       "    <tr>\n",
       "      <th>4</th>\n",
       "      <td>bd9584</td>\n",
       "      <td>18.0</td>\n",
       "      <td>0.3</td>\n",
       "      <td>0.74</td>\n",
       "      <td>65</td>\n",
       "      <td>2</td>\n",
       "      <td>bd9584</td>\n",
       "    </tr>\n",
       "  </tbody>\n",
       "</table>\n",
       "</div>"
      ],
      "text/plain": [
       "      hex     H     S     V   L  group content\n",
       "0  f3cfb3  26.0  0.26  0.95  86      2  f3cfb3\n",
       "1  ffe3c2  32.0  0.24   1.0  92      2  ffe3c2\n",
       "2  ffe0cd  23.0   0.2   1.0  91      2  ffe0cd\n",
       "3  ffd3be  19.0  0.25   1.0  88      2  ffd3be\n",
       "4  bd9584  18.0   0.3  0.74  65      2  bd9584"
      ]
     },
     "execution_count": 123,
     "metadata": {},
     "output_type": "execute_result"
    }
   ],
   "source": [
    "DATA.head()\n"
   ]
  },
  {
   "cell_type": "code",
   "execution_count": 124,
   "metadata": {},
   "outputs": [],
   "source": [
    "X_train, X_test, Y_train, Y_test = train_test_split(X, Y, test_size = 0.2, stratify=Y, random_state=2)"
   ]
  },
  {
   "cell_type": "code",
   "execution_count": 125,
   "metadata": {},
   "outputs": [
    {
     "data": {
      "text/html": [
       "<style>#sk-container-id-4 {color: black;background-color: white;}#sk-container-id-4 pre{padding: 0;}#sk-container-id-4 div.sk-toggleable {background-color: white;}#sk-container-id-4 label.sk-toggleable__label {cursor: pointer;display: block;width: 100%;margin-bottom: 0;padding: 0.3em;box-sizing: border-box;text-align: center;}#sk-container-id-4 label.sk-toggleable__label-arrow:before {content: \"▸\";float: left;margin-right: 0.25em;color: #696969;}#sk-container-id-4 label.sk-toggleable__label-arrow:hover:before {color: black;}#sk-container-id-4 div.sk-estimator:hover label.sk-toggleable__label-arrow:before {color: black;}#sk-container-id-4 div.sk-toggleable__content {max-height: 0;max-width: 0;overflow: hidden;text-align: left;background-color: #f0f8ff;}#sk-container-id-4 div.sk-toggleable__content pre {margin: 0.2em;color: black;border-radius: 0.25em;background-color: #f0f8ff;}#sk-container-id-4 input.sk-toggleable__control:checked~div.sk-toggleable__content {max-height: 200px;max-width: 100%;overflow: auto;}#sk-container-id-4 input.sk-toggleable__control:checked~label.sk-toggleable__label-arrow:before {content: \"▾\";}#sk-container-id-4 div.sk-estimator input.sk-toggleable__control:checked~label.sk-toggleable__label {background-color: #d4ebff;}#sk-container-id-4 div.sk-label input.sk-toggleable__control:checked~label.sk-toggleable__label {background-color: #d4ebff;}#sk-container-id-4 input.sk-hidden--visually {border: 0;clip: rect(1px 1px 1px 1px);clip: rect(1px, 1px, 1px, 1px);height: 1px;margin: -1px;overflow: hidden;padding: 0;position: absolute;width: 1px;}#sk-container-id-4 div.sk-estimator {font-family: monospace;background-color: #f0f8ff;border: 1px dotted black;border-radius: 0.25em;box-sizing: border-box;margin-bottom: 0.5em;}#sk-container-id-4 div.sk-estimator:hover {background-color: #d4ebff;}#sk-container-id-4 div.sk-parallel-item::after {content: \"\";width: 100%;border-bottom: 1px solid gray;flex-grow: 1;}#sk-container-id-4 div.sk-label:hover label.sk-toggleable__label {background-color: #d4ebff;}#sk-container-id-4 div.sk-serial::before {content: \"\";position: absolute;border-left: 1px solid gray;box-sizing: border-box;top: 0;bottom: 0;left: 50%;z-index: 0;}#sk-container-id-4 div.sk-serial {display: flex;flex-direction: column;align-items: center;background-color: white;padding-right: 0.2em;padding-left: 0.2em;position: relative;}#sk-container-id-4 div.sk-item {position: relative;z-index: 1;}#sk-container-id-4 div.sk-parallel {display: flex;align-items: stretch;justify-content: center;background-color: white;position: relative;}#sk-container-id-4 div.sk-item::before, #sk-container-id-4 div.sk-parallel-item::before {content: \"\";position: absolute;border-left: 1px solid gray;box-sizing: border-box;top: 0;bottom: 0;left: 50%;z-index: -1;}#sk-container-id-4 div.sk-parallel-item {display: flex;flex-direction: column;z-index: 1;position: relative;background-color: white;}#sk-container-id-4 div.sk-parallel-item:first-child::after {align-self: flex-end;width: 50%;}#sk-container-id-4 div.sk-parallel-item:last-child::after {align-self: flex-start;width: 50%;}#sk-container-id-4 div.sk-parallel-item:only-child::after {width: 0;}#sk-container-id-4 div.sk-dashed-wrapped {border: 1px dashed gray;margin: 0 0.4em 0.5em 0.4em;box-sizing: border-box;padding-bottom: 0.4em;background-color: white;}#sk-container-id-4 div.sk-label label {font-family: monospace;font-weight: bold;display: inline-block;line-height: 1.2em;}#sk-container-id-4 div.sk-label-container {text-align: center;}#sk-container-id-4 div.sk-container {/* jupyter's `normalize.less` sets `[hidden] { display: none; }` but bootstrap.min.css set `[hidden] { display: none !important; }` so we also need the `!important` here to be able to override the default hidden behavior on the sphinx rendered scikit-learn.org. See: https://github.com/scikit-learn/scikit-learn/issues/21755 */display: inline-block !important;position: relative;}#sk-container-id-4 div.sk-text-repr-fallback {display: none;}</style><div id=\"sk-container-id-4\" class=\"sk-top-container\"><div class=\"sk-text-repr-fallback\"><pre>LogisticRegression()</pre><b>In a Jupyter environment, please rerun this cell to show the HTML representation or trust the notebook. <br />On GitHub, the HTML representation is unable to render, please try loading this page with nbviewer.org.</b></div><div class=\"sk-container\" hidden><div class=\"sk-item\"><div class=\"sk-estimator sk-toggleable\"><input class=\"sk-toggleable__control sk-hidden--visually\" id=\"sk-estimator-id-4\" type=\"checkbox\" checked><label for=\"sk-estimator-id-4\" class=\"sk-toggleable__label sk-toggleable__label-arrow\">LogisticRegression</label><div class=\"sk-toggleable__content\"><pre>LogisticRegression()</pre></div></div></div></div></div>"
      ],
      "text/plain": [
       "LogisticRegression()"
      ]
     },
     "execution_count": 125,
     "metadata": {},
     "output_type": "execute_result"
    }
   ],
   "source": [
    "model = LogisticRegression()\n",
    "\n",
    "model.fit(X_train, Y_train)"
   ]
  },
  {
   "cell_type": "code",
   "execution_count": 126,
   "metadata": {},
   "outputs": [
    {
     "name": "stdout",
     "output_type": "stream",
     "text": [
      "Accuracy score of the training data :  0.716\n"
     ]
    }
   ],
   "source": [
    "X_train_prediction = model.predict(X_train)\n",
    "training_data_accuracy = accuracy_score(X_train_prediction, Y_train)\n",
    "\n",
    "print('Accuracy score of the training data : ', training_data_accuracy)"
   ]
  },
  {
   "cell_type": "code",
   "execution_count": 127,
   "metadata": {},
   "outputs": [
    {
     "name": "stdout",
     "output_type": "stream",
     "text": [
      "Accuracy score of the test data :  0.272\n"
     ]
    }
   ],
   "source": [
    "X_test_prediction = model.predict(X_test)\n",
    "test_data_accuracy = accuracy_score(X_test_prediction, Y_test)\n",
    "\n",
    "print('Accuracy score of the test data : ', test_data_accuracy)"
   ]
  },
  {
   "cell_type": "code",
   "execution_count": 129,
   "metadata": {},
   "outputs": [
    {
     "name": "stdout",
     "output_type": "stream",
     "text": [
      "[2]\n",
      "shade is 2\n",
      "shade is 0\n"
     ]
    }
   ],
   "source": [
    "X_new = X_test[90]\n",
    "\n",
    "prediction = model.predict(X_new)\n",
    "print(prediction)\n",
    "\n",
    "if (prediction[0]==7):\n",
    "  print('shade is 7')\n",
    "if (prediction[0]==6):\n",
    "  print('shade is 6')\n",
    "if (prediction[0]==5):\n",
    "  print('shade is 5')\n",
    "if (prediction[0]==4):\n",
    "  print('shade is 4')\n",
    "if (prediction[0]==3):\n",
    "  print('shade is 3')\n",
    "if (prediction[0]==2):\n",
    "  print('shade is 2')\n",
    "if (prediction[0]==1):\n",
    "  print('shade is 1')\n",
    "\n",
    "else:\n",
    "  print('shade is 0')"
   ]
  }
 ],
 "metadata": {
  "kernelspec": {
   "display_name": "Python 3",
   "language": "python",
   "name": "python3"
  },
  "language_info": {
   "codemirror_mode": {
    "name": "ipython",
    "version": 3
   },
   "file_extension": ".py",
   "mimetype": "text/x-python",
   "name": "python",
   "nbconvert_exporter": "python",
   "pygments_lexer": "ipython3",
   "version": "3.10.2"
  },
  "orig_nbformat": 4
 },
 "nbformat": 4,
 "nbformat_minor": 2
}
